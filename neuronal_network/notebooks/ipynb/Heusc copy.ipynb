{
 "cells": [
  {
   "cell_type": "code",
   "execution_count": 22,
   "id": "452cdeef",
   "metadata": {},
   "outputs": [
    {
     "name": "stdout",
     "output_type": "stream",
     "text": [
      "all: {'allgemein_settings': {'model_folder': 'models', 'use_model_file': 'Heusc_v0.3_20250913_024701.keras', 'sequence_length': 60, 'train_epochs': 10000, 'batch_size': 32, 'validation_split': 0.2, 'early_stopping_patience': 5, 'feature_scaling': True, 'use_dropout': True, 'dropout_rate': 0.2, 'loss_function': 'binary_crossentropy', 'optimizer': 'adam', 'debug_mode': True}, 'offline': {'enabled': True, 'csv_folder': 'csv/binance', 'csv_file': 'BTCUSDT-1m-1y-binance-2025-09-12_22-40-01.csv'}, 'online': {'symbols': ['BTC', 'ETH', 'SOL'], 'currencies': ['USDT', 'USDT', 'USDT'], 'interval': '1m', 'poll_seconds': 10, 'max_live_train_minutes': 60}, 'balance': {'use_simulation': True, 'initial_balance': 1000, 'save_on_profit_percent': 50, 'game_over_threshold': 0, 'balance_reward_factor': 1.0, 'retrain_from_best': True}, 'training_options': {'use_weighting': True, 'punish_on_wrong': True, 'predict_confidence': True, 'log_transactions': True}}\n",
      "allg: {'model_folder': 'models', 'use_model_file': 'Heusc_v0.3_20250913_024701.keras', 'sequence_length': 60, 'train_epochs': 10000, 'batch_size': 32, 'validation_split': 0.2, 'early_stopping_patience': 5, 'feature_scaling': True, 'use_dropout': True, 'dropout_rate': 0.2, 'loss_function': 'binary_crossentropy', 'optimizer': 'adam', 'debug_mode': True}\n",
      "online: {'symbols': ['BTC', 'ETH', 'SOL'], 'currencies': ['USDT', 'USDT', 'USDT'], 'interval': '1m', 'poll_seconds': 10, 'max_live_train_minutes': 60}\n",
      "offline: {'enabled': True, 'csv_folder': 'csv/binance', 'csv_file': 'BTCUSDT-1m-1y-binance-2025-09-12_22-40-01.csv'}\n",
      "balance_settings: {'use_simulation': True, 'initial_balance': 1000, 'save_on_profit_percent': 50, 'game_over_threshold': 0, 'balance_reward_factor': 1.0, 'retrain_from_best': True}\n"
     ]
    }
   ],
   "source": [
    "import os, json, time, requests\n",
    "import numpy as np, pandas as pd\n",
    "from sklearn.preprocessing import StandardScaler\n",
    "from tensorflow.keras.models import Sequential, load_model\n",
    "from tensorflow.keras.layers import Dense, Dropout\n",
    "from tensorflow.keras.optimizers import Adam\n",
    "from datetime import datetime\n",
    "\n",
    "# -------------------------------\n",
    "# Settings laden\n",
    "# -------------------------------\n",
    "with open(\"settings.json\", \"r\") as f:\n",
    "    settings = json.load(f)\n",
    "\n",
    "allg = settings['allgemein_settings']\n",
    "online = settings['online']\n",
    "offline = settings['offline']\n",
    "balance_settings = settings['balance']\n",
    "print(f\"all: {settings}\")\n",
    "\n",
    "print(f\"allg: {allg}\")\n",
    "print(f\"online: {online}\")\n",
    "print(f\"offline: {offline}\")\n",
    "print(f\"balance_settings: {balance_settings}\")"
   ]
  },
  {
   "cell_type": "code",
   "execution_count": 7,
   "id": "2301cbd9",
   "metadata": {},
   "outputs": [
    {
     "name": "stdout",
     "output_type": "stream",
     "text": [
      "Model geladen: models\\Heusc_v0.3_20250913_024701.keras\n",
      "StandardScaler()\n"
     ]
    }
   ],
   "source": [
    "# -------------------------------\n",
    "# Modell erstellen oder laden\n",
    "# -------------------------------\n",
    "def create_model(input_dim=7):\n",
    "    model = Sequential([\n",
    "        Dense(64, activation=\"relu\", input_shape=(input_dim,)),\n",
    "        Dropout(0.2),\n",
    "        Dense(32, activation=\"relu\"),\n",
    "        Dropout(0.2),\n",
    "        Dense(1, activation=\"sigmoid\")\n",
    "    ])\n",
    "    model.compile(optimizer=Adam(0.001), loss=\"binary_crossentropy\", metrics=[\"accuracy\"])\n",
    "    return model\n",
    "\n",
    "model_path = os.path.join(allg['model_folder'], allg['use_model_file'])\n",
    "if os.path.exists(model_path):\n",
    "    model = load_model(model_path)\n",
    "    print(f\"Model geladen: {model_path}\")\n",
    "else:\n",
    "    model = create_model()\n",
    "    print(\"Neues Modell erstellt.\")\n",
    "\n",
    "# Scaler (einmal fitten im Offline Mode)\n",
    "scaler = StandardScaler()\n",
    "print(scaler)"
   ]
  },
  {
   "cell_type": "code",
   "execution_count": 8,
   "id": "aa30b472",
   "metadata": {},
   "outputs": [],
   "source": [
    "# -------------------------------\n",
    "# Offline Training (CSV)\n",
    "# -------------------------------\n",
    "def offline_train(csv_file):\n",
    "    df = pd.read_csv(csv_file)\n",
    "\n",
    "    # Features + Label\n",
    "    X = df[[\"open\",\"high\",\"low\",\"close\",\"prev_close\",\"current_close\",\"volume\"]].values\n",
    "    y = (df[\"color\"] == \"green\").astype(int).values\n",
    "\n",
    "    # Scaling\n",
    "    X = scaler.fit_transform(X)\n",
    "\n",
    "    # Train\n",
    "    model.fit(X, y, epochs=10, batch_size=32, verbose=1)\n",
    "\n",
    "    # Speichern\n",
    "    model.save(model_path)\n",
    "    print(f\"Offline Training abgeschlossen → {model_path}\")"
   ]
  },
  {
   "cell_type": "code",
   "execution_count": 9,
   "id": "78b9390d",
   "metadata": {},
   "outputs": [],
   "source": [
    "# -------------------------------\n",
    "# Online Mode (API)\n",
    "# -------------------------------\n",
    "def online_train():\n",
    "    balance = balance_settings.get(\"initial_balance\", 1000)\n",
    "    position = 0\n",
    "    trade_log = []\n",
    "    end_time = pd.Timestamp.now() + pd.Timedelta(minutes=online['max_live_train_minutes'])\n",
    "\n",
    "    while pd.Timestamp.now() < end_time and balance > balance_settings.get(\"game_over_threshold\", 0):\n",
    "        for sym, cur in zip(online['symbols'], online['currencies']):\n",
    "            url = f\"http://127.0.0.1:5000/api/train_mode?symbols={sym}{cur}&source=binance&interval={online['interval']}&period=3d\"\n",
    "            try:\n",
    "                resp = requests.get(url)\n",
    "                data = resp.json()\n",
    "            except Exception as e:\n",
    "                print(f\"[Fehler API] {e}\")\n",
    "                continue\n",
    "\n",
    "            candles = data.get(f\"{sym}{cur}\", {}).get(\"history\", []) + [data.get(f\"{sym}{cur}\", {}).get(\"live\")]\n",
    "            for c in candles:\n",
    "                if c is None: continue\n",
    "\n",
    "                # Input Features\n",
    "                X = np.array([[c[\"open\"], c[\"high\"], c[\"low\"], c[\"close\"],\n",
    "                               c[\"prev_close\"], c[\"current_close\"], c[\"volume\"]]])\n",
    "                X = scaler.transform(X)\n",
    "\n",
    "                # Prediction\n",
    "                y_pred_prob = model.predict(X, verbose=0).flatten()[0]\n",
    "                pred_label = \"green\" if y_pred_prob > 0.5 else \"red\"\n",
    "                true_label = c[\"color\"]\n",
    "\n",
    "                profit = 0\n",
    "                if pred_label == \"green\" and position == 0:\n",
    "                    position = c[\"close\"]\n",
    "                elif pred_label == \"red\" and position != 0:\n",
    "                    profit = (c[\"close\"] - position) * balance_settings.get(\"balance_reward_factor\", 1.0)\n",
    "                    balance += profit\n",
    "                    position = 0\n",
    "\n",
    "                # Feedback → Retraining (eine Candle nachlernen)\n",
    "                y_true = np.array([1 if true_label == \"green\" else 0])\n",
    "                model.fit(X, y_true, epochs=1, verbose=0)\n",
    "\n",
    "                trade_log.append({\n",
    "                    \"timestamp\": c[\"timestamp\"],\n",
    "                    \"symbol\": f\"{sym}{cur}\",\n",
    "                    \"predicted\": pred_label,\n",
    "                    \"true\": true_label,\n",
    "                    \"conf\": float(y_pred_prob),\n",
    "                    \"profit\": profit,\n",
    "                    \"balance\": balance\n",
    "                })\n",
    "\n",
    "        time.sleep(online[\"poll_seconds\"])\n",
    "\n",
    "    # Speichern\n",
    "    model_name = f\"{allg['use_model_file'].replace('.keras','')}_online_{datetime.now().strftime('%Y%m%d_%H%M%S')}.keras\"\n",
    "    model.save(os.path.join(allg['model_folder'], model_name))\n",
    "    with open(model_name.replace(\".keras\",\".json\"), \"w\") as f:\n",
    "        json.dump({\"balance\": balance, \"trades\": trade_log}, f, indent=4)\n",
    "\n",
    "    print(f\"Endbalance: {balance:.2f} | Log gespeichert.\")"
   ]
  },
  {
   "cell_type": "code",
   "execution_count": null,
   "id": "c87ef757",
   "metadata": {},
   "outputs": [
    {
     "ename": "KeyError",
     "evalue": "'mode'",
     "output_type": "error",
     "traceback": [
      "\u001b[1;31m---------------------------------------------------------------------------\u001b[0m",
      "\u001b[1;31mKeyError\u001b[0m                                  Traceback (most recent call last)",
      "Cell \u001b[1;32mIn[10], line 4\u001b[0m\n\u001b[0;32m      1\u001b[0m \u001b[38;5;66;03m# -------------------------------\u001b[39;00m\n\u001b[0;32m      2\u001b[0m \u001b[38;5;66;03m# Aufruf\u001b[39;00m\n\u001b[0;32m      3\u001b[0m \u001b[38;5;66;03m# -------------------------------\u001b[39;00m\n\u001b[1;32m----> 4\u001b[0m \u001b[38;5;28;01mif\u001b[39;00m settings[\u001b[38;5;124m\"\u001b[39m\u001b[38;5;124mmode\u001b[39m\u001b[38;5;124m\"\u001b[39m] \u001b[38;5;241m==\u001b[39m \u001b[38;5;124m\"\u001b[39m\u001b[38;5;124moffline\u001b[39m\u001b[38;5;124m\"\u001b[39m:\n\u001b[0;32m      5\u001b[0m     offline_train(settings[\u001b[38;5;124m\"\u001b[39m\u001b[38;5;124moffline\u001b[39m\u001b[38;5;124m\"\u001b[39m][\u001b[38;5;124m\"\u001b[39m\u001b[38;5;124mcsv_file\u001b[39m\u001b[38;5;124m\"\u001b[39m])\n\u001b[0;32m      6\u001b[0m \u001b[38;5;28;01melif\u001b[39;00m settings[\u001b[38;5;124m\"\u001b[39m\u001b[38;5;124mmode\u001b[39m\u001b[38;5;124m\"\u001b[39m] \u001b[38;5;241m==\u001b[39m \u001b[38;5;124m\"\u001b[39m\u001b[38;5;124monline\u001b[39m\u001b[38;5;124m\"\u001b[39m:\n",
      "\u001b[1;31mKeyError\u001b[0m: 'mode'"
     ]
    }
   ],
   "source": [
    "# -------------------------------\n",
    "# Aufruf\n",
    "# -------------------------------\n",
    "if offline[\"enabled\"] == True:\n",
    "    offline_train(settings[\"offline\"][\"csv_file\"])\n",
    "elif offline[\"enabled\"] == False:\n",
    "    online_train()"
   ]
  }
 ],
 "metadata": {
  "kernelspec": {
   "display_name": "base",
   "language": "python",
   "name": "python3"
  },
  "language_info": {
   "codemirror_mode": {
    "name": "ipython",
    "version": 3
   },
   "file_extension": ".py",
   "mimetype": "text/x-python",
   "name": "python",
   "nbconvert_exporter": "python",
   "pygments_lexer": "ipython3",
   "version": "3.13.5"
  }
 },
 "nbformat": 4,
 "nbformat_minor": 5
}
